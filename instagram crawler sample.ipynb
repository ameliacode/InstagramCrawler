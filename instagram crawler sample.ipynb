{
 "cells": [
  {
   "cell_type": "markdown",
   "metadata": {},
   "source": [
    "## Instagram crawler sample"
   ]
  },
  {
   "cell_type": "code",
   "execution_count": 97,
   "metadata": {},
   "outputs": [],
   "source": [
    "from selenium import webdriver\n",
    "import urllib.parse\n",
    "from urllib.request import Request, urlopen\n",
    "import time\n",
    "import datetime\n",
    "import pandas as pd\n",
    "from bs4 import BeautifulSoup"
   ]
  },
  {
   "cell_type": "code",
   "execution_count": 98,
   "metadata": {},
   "outputs": [],
   "source": [
    "def doScrollDown(whileSeconds):\n",
    "    start = datetime.datetime.now()\n",
    "    end = start + datetime.timedelta(seconds=whileSeconds)\n",
    "    \n",
    "    while True:\n",
    "        driver.execute_script('window.scrollTo(0, document.body.scrollHeight);')\n",
    "        time.sleep(1)\n",
    "        if datetime.datetime.now() > end:\n",
    "            break"
   ]
  },
  {
   "cell_type": "code",
   "execution_count": 99,
   "metadata": {},
   "outputs": [],
   "source": [
    "chromedriver=\"./chromedriver_win32/chromedriver.exe\"\n",
    "driver=webdriver.Chrome(chromedriver)"
   ]
  },
  {
   "cell_type": "code",
   "execution_count": 100,
   "metadata": {},
   "outputs": [],
   "source": [
    "## Selenium 속도 향상\n",
    "options = webdriver.ChromeOptions() # 크롬 옵션 객체 생성\n",
    "options.add_argument('headless') # headless 모드 설정\n",
    "options.add_argument(\"window-size=1920x1080\") # 화면크기(전체화면)\n",
    "options.add_argument(\"disable-gpu\") \n",
    "options.add_argument(\"disable-infobars\")\n",
    "options.add_argument(\"--disable-extensions\")\n",
    "\n",
    "# 속도 향상을 위한 옵션 해제\n",
    "prefs = {'profile.default_content_setting_values': {'cookies' : 2, 'images': 2, 'plugins' : 2, 'popups': 2, 'geolocation': 2, 'notifications' : 2, 'auto_select_certificate': 2, 'fullscreen' : 2, 'mouselock' : 2, 'mixed_script': 2, 'media_stream' : 2, 'media_stream_mic' : 2, 'media_stream_camera': 2, 'protocol_handlers' : 2, 'ppapi_broker' : 2, 'automatic_downloads': 2, 'midi_sysex' : 2, 'push_messaging' : 2, 'ssl_cert_decisions': 2, 'metro_switch_to_desktop' : 2, 'protected_media_identifier': 2, 'app_banner': 2, 'site_engagement' : 2, 'durable_storage' : 2}}   \n",
    "options.add_experimental_option('prefs', prefs)"
   ]
  },
  {
   "cell_type": "code",
   "execution_count": 101,
   "metadata": {},
   "outputs": [],
   "source": [
    "# login\n",
    "loginUrl = 'https://www.instagram.com/accounts/login/'\n",
    "driver.get(loginUrl)\n",
    "time.sleep(2)\n",
    "\n",
    "# username = input(\"유저 아이디 입력: \")\n",
    "username =\"soft_skate\"\n",
    "userpw=\"Yunastellar\"\n",
    "\n",
    "driver.find_element_by_name('username').send_keys(username)\n",
    "driver.find_element_by_name('password').send_keys(userpw)\n",
    "time.sleep(2)\n",
    "driver.find_element_by_css_selector('button.sqdOP.L3NKy.y3zKF').click()\n",
    "time.sleep(20)"
   ]
  },
  {
   "cell_type": "code",
   "execution_count": 102,
   "metadata": {},
   "outputs": [],
   "source": [
    "# 정보 나중에 저장하기 클릭하고 넘어가기\n",
    "try:\n",
    "    driver.find_element_by_css_selector('button.sqdOP.yWX7d.y3zKF').click()\n",
    "    time.sleep(3)\n",
    "except:\n",
    "    pass\n",
    "# 설정 나중에하기 클릭하고 넘어가기\n",
    "try:\n",
    "    driver.find_element_by_css_selector('button.aOOlW.HoLwm').click()\n",
    "    time.sleep(3)\n",
    "except:\n",
    "    pass"
   ]
  },
  {
   "cell_type": "code",
   "execution_count": 103,
   "metadata": {},
   "outputs": [],
   "source": [
    "#keyword=input(\"해시태그를 입력하세요: \")\n",
    "keyword=\"골프\"\n",
    "encText = urllib.parse.quote(keyword)"
   ]
  },
  {
   "cell_type": "code",
   "execution_count": 104,
   "metadata": {},
   "outputs": [],
   "source": [
    "url=\"https://www.instagram.com/explore/tags/\"+str(encText)+'/'\n",
    "driver.get(url)\n",
    "time.sleep(3)"
   ]
  },
  {
   "cell_type": "code",
   "execution_count": 105,
   "metadata": {},
   "outputs": [],
   "source": [
    "# scroll_time = int(input(\"스크롤 시간 입력: \"))\n",
    "doScrollDown(10)"
   ]
  },
  {
   "cell_type": "code",
   "execution_count": 123,
   "metadata": {},
   "outputs": [],
   "source": [
    "html = driver.page_source\n",
    "soup = BeautifulSoup(html, 'html.parser')"
   ]
  },
  {
   "cell_type": "code",
   "execution_count": 186,
   "metadata": {},
   "outputs": [],
   "source": [
    "post_list = driver.find_elements_by_tag_name(\"div\")\n",
    "post_index = 0\n",
    "all_posts_info = {}\n",
    "for post in post_list:\n",
    "    class_name = post.get_attribute(\"class\")\n",
    "    if class_name.startswith(\"v1Nh3\"):\n",
    "        info = {}\n",
    "        link = post.find_element_by_tag_name(\"a\").get_attribute(\"href\")\n",
    "        all_posts_info[post_index] = link\n",
    "        post_index += 1"
   ]
  },
  {
   "cell_type": "code",
   "execution_count": 188,
   "metadata": {},
   "outputs": [
    {
     "name": "stdout",
     "output_type": "stream",
     "text": [
      "rabbit_shin\n",
      "rabbit_shin\n",
      "여러분 오늘은 원심력 운동을 해볼꺼에요\n",
      "몸회전하는 길과\n",
      "클럽 지나가는길은 기찻길이라고\n",
      "생각하시면되세여\n",
      "손이 절대 몸 안쪽 으로 들어가면\n",
      "막히기 때문에\n",
      "빙글빙글 못돌립니다 ㅎㅎ\n",
      "주변 사람없을때 해보세요 😂\n",
      "#돌리고돌리고\n",
      ".\n",
      ".\n",
      ".\n",
      "#골프 #golfswing #원심력#레슨#😂#서울#허석호골프아카데미#릴스\n",
      "1일\n",
      "{'link': 'https://www.instagram.com/p/CSHI9tfnj5v/', 'account': 'rabbit_shin', 'post_content': 'rabbit_shin\\n여러분 오늘은 원심력 운동을 해볼꺼에요\\n몸회전하는 길과\\n클럽 지나가는길은 기찻길이라고\\n생각하시면되세여\\n손이 절대 몸 안쪽 으로 들어가면\\n막히기 때문에\\n빙글빙글 못돌립니다 ㅎㅎ\\n주변 사람없을때 해보세요 😂\\n#돌리고돌리고\\n.\\n.\\n.\\n#골프 #golfswing #원심력#레슨#😂#서울#허석호골프아카데미#릴스\\n1일', 'likes': '303', 'account_posts': '1,040', 'account_followers': '23.3천', 'account_following': '471', 'account_intro': '🐰klpga 프로.00907. 신혜원\\n골프 강사\\n허석호골프아카데미 @hshgolfstudio\\n티엔티컴퍼니\\n혜피골프 tv 유튜버\\nBaldo KOREA 유튜브 mc\\n까스텔바작\\nTeam BALDO\\n보이스캐디\\n브리지스톤\\n바론 골프\\nyoutu.be/92RIkPNHaSI'}\n"
     ]
    }
   ],
   "source": [
    "import json\n",
    "for key in all_posts_info:\n",
    "    post_link = all_posts_info[key]\n",
    "    driver.get(post_link)\n",
    "    time.sleep(3)\n",
    "    info = {}\n",
    "    info[\"link\"] = post_link\n",
    "    \n",
    "    # account name\n",
    "    account=driver.find_elements_by_tag_name(\"a\")\n",
    "    for acc in account:\n",
    "        if acc.get_attribute(\"class\").startswith(\"sqdOP\"):\n",
    "            info[\"account\"] = acc.text\n",
    "            break\n",
    "\n",
    "    print(info[\"account\"])\n",
    "    # post content\n",
    "    post_content=driver.find_element_by_class_name(\"C4VMK\")\n",
    "    print(post_content.text)\n",
    "    info[\"post_content\"] = post_content.text\n",
    "    # 해시태그랑 계정명 확인 분리해서 저장할 것\n",
    "    # 댓글에 간혹 다는 경우 있는데 확인하기\n",
    "    \n",
    "    # post likes\n",
    "    likes = driver.find_element_by_class_name(\"Nm9Fw\")\n",
    "    info[\"likes\"] = likes.find_element_by_tag_name(\"span\").text\n",
    "    # 좋아요 외 영상 조회수 확인\n",
    "    \n",
    "    #account info\n",
    "    driver.get(\"https://instagram.com/\"+info[\"account\"]+\"/\")\n",
    "    time.sleep(3)\n",
    "    acc_info = driver.find_elements_by_class_name(\"g47SY \")\n",
    "    acc_info_list = []\n",
    "    for num in acc_info:\n",
    "        acc_info_list.append(num)\n",
    "    info[\"account_posts\"] = acc_info_list[0].text\n",
    "    info[\"account_followers\"] = acc_info_list[1].text\n",
    "    info[\"account_following\"] = acc_info_list[2].text\n",
    "    \n",
    "    info[\"account_intro\"] = driver.find_element_by_class_name(\"-vDIg\").text\n",
    "    print(info)\n",
    "    # 계정 정보 세부적으로 나눌 것\n",
    "    \n",
    "    all_posts_info[key] = info\n",
    "    \n",
    "    # 계정 내에 있는 피드도 모두 긁기\n",
    "    break"
   ]
  },
  {
   "cell_type": "code",
   "execution_count": null,
   "metadata": {},
   "outputs": [],
   "source": [
    "# 마지막에 엑셀로 정리하기"
   ]
  },
  {
   "cell_type": "code",
   "execution_count": null,
   "metadata": {},
   "outputs": [],
   "source": []
  }
 ],
 "metadata": {
  "kernelspec": {
   "display_name": "Python 3",
   "language": "python",
   "name": "python3"
  },
  "language_info": {
   "codemirror_mode": {
    "name": "ipython",
    "version": 3
   },
   "file_extension": ".py",
   "mimetype": "text/x-python",
   "name": "python",
   "nbconvert_exporter": "python",
   "pygments_lexer": "ipython3",
   "version": "3.7.7"
  }
 },
 "nbformat": 4,
 "nbformat_minor": 4
}
