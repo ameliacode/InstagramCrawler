{
 "cells": [
  {
   "cell_type": "markdown",
   "metadata": {},
   "source": [
    "## Instagram crawler sample"
   ]
  },
  {
   "cell_type": "code",
   "execution_count": null,
   "metadata": {},
   "outputs": [],
   "source": [
    "from selenium import webdriver\n",
    "import urllib.parse\n",
    "from urllib.request import Request, urlopen\n",
    "import time\n",
    "import pandas as pd\n",
    "from bs4 import BeautifulSoup"
   ]
  },
  {
   "cell_type": "code",
   "execution_count": null,
   "metadata": {},
   "outputs": [],
   "source": [
    "chromedriver=\"./chromedriver_win32/chromedriver.exe\"\n",
    "driver=webdriver.Chrome(chromedriver)"
   ]
  },
  {
   "cell_type": "code",
   "execution_count": null,
   "metadata": {},
   "outputs": [],
   "source": [
    "# login\n",
    "loginUrl = 'https://www.instagram.com/accounts/login/'\n",
    "driver.get(loginUrl)\n",
    "time.sleep(2)\n",
    "\n",
    "username = input(\"유저 아이디 입력: \")\n",
    "userpw=\"Yunastellar\"\n",
    "\n",
    "driver.find_element_by_name('username').send_keys(username)\n",
    "driver.find_element_by_name('password').send_keys(userpw)\n",
    "time.sleep(2)\n",
    "driver.find_element_by_css_selector('button.sqdOP.L3NKy.y3zKF').click()\n",
    "time.sleep(3)"
   ]
  },
  {
   "cell_type": "code",
   "execution_count": null,
   "metadata": {},
   "outputs": [],
   "source": [
    "# 정보 나중에 저장하기 클릭하고 넘어가기\n",
    "try:\n",
    "    driver.find_element_by_css_selector('button.sqdOP.yWX7d.y3zKF').click()\n",
    "    time.sleep(3)\n",
    "except:\n",
    "    pass\n",
    "# 설정 나중에하기 클릭하고 넘어가기\n",
    "try:\n",
    "    driver.find_element_by_css_selector('button.aOOlW.HoLwm').click()\n",
    "    time.sleep(3)\n",
    "except:\n",
    "    pass"
   ]
  },
  {
   "cell_type": "code",
   "execution_count": null,
   "metadata": {},
   "outputs": [],
   "source": [
    "keyword=input(\"해시태그를 입력하세요: \")\n",
    "encText = urllib.parse.quote(keyword)"
   ]
  },
  {
   "cell_type": "code",
   "execution_count": null,
   "metadata": {},
   "outputs": [],
   "source": [
    "url=\"https://www.instagram.com/explore/tags/\"+str(encText)+'/'\n",
    "driver.get(url)\n",
    "time.sleep(3)"
   ]
  },
  {
   "cell_type": "code",
   "execution_count": null,
   "metadata": {},
   "outputs": [],
   "source": [
    "driver.find_element_by_css_selector('div.v1Nh3.kIKUG._bz0w').click()\n",
    "time.sleep(3)"
   ]
  },
  {
   "cell_type": "code",
   "execution_count": null,
   "metadata": {},
   "outputs": [],
   "source": []
  }
 ],
 "metadata": {
  "kernelspec": {
   "display_name": "Python 3",
   "language": "python",
   "name": "python3"
  },
  "language_info": {
   "codemirror_mode": {
    "name": "ipython",
    "version": 3
   },
   "file_extension": ".py",
   "mimetype": "text/x-python",
   "name": "python",
   "nbconvert_exporter": "python",
   "pygments_lexer": "ipython3",
   "version": "3.7.7"
  }
 },
 "nbformat": 4,
 "nbformat_minor": 4
}
